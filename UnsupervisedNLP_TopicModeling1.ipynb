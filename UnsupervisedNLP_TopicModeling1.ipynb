{
 "cells": [
  {
   "cell_type": "code",
   "execution_count": 1,
   "metadata": {},
   "outputs": [],
   "source": [
    "import pandas as pd\n",
    "import numpy as np\n",
    "import pickle\n",
    "import os\n",
    "import seaborn as sns\n",
    "import matplotlib.pyplot as plt\n",
    "from gensim import matutils, models\n",
    "import gensim.corpora as corpora\n",
    "from gensim.corpora import Dictionary\n",
    "from gensim.models.coherencemodel import CoherenceModel\n",
    "from gensim.models.ldamodel import LdaModel\n",
    "import scipy.sparse\n",
    "import re\n",
    "from gensim.utils import simple_preprocess\n",
    "import spacy\n",
    "import scispacy\n",
    "import en_core_sci_lg\n",
    "import gensim.corpora as corpora\n",
    "from sklearn.feature_extraction.text import TfidfVectorizer, CountVectorizer\n",
    "from sklearn.decomposition import LatentDirichletAllocation\n",
    "from pprint import pprint\n",
    "import nltk\n",
    "from nltk.corpus import stopwords\n",
    "from wordcloud import WordCloud\n",
    "from nltk.corpus import stopwords\n",
    "import gensim.corpora as corpora"
   ]
  },
  {
   "cell_type": "code",
   "execution_count": 2,
   "metadata": {},
   "outputs": [
    {
     "data": {
      "text/html": [
       "<div>\n",
       "<style scoped>\n",
       "    .dataframe tbody tr th:only-of-type {\n",
       "        vertical-align: middle;\n",
       "    }\n",
       "\n",
       "    .dataframe tbody tr th {\n",
       "        vertical-align: top;\n",
       "    }\n",
       "\n",
       "    .dataframe thead th {\n",
       "        text-align: right;\n",
       "    }\n",
       "</style>\n",
       "<table border=\"1\" class=\"dataframe\">\n",
       "  <thead>\n",
       "    <tr style=\"text-align: right;\">\n",
       "      <th></th>\n",
       "      <th>Unnamed: 0</th>\n",
       "      <th>Unnamed: 0.1</th>\n",
       "      <th>cord_uid</th>\n",
       "      <th>source_x</th>\n",
       "      <th>title</th>\n",
       "      <th>doi</th>\n",
       "      <th>abstract</th>\n",
       "      <th>publish_time</th>\n",
       "      <th>authors</th>\n",
       "      <th>journal</th>\n",
       "      <th>url</th>\n",
       "      <th>publish_year</th>\n",
       "      <th>lang</th>\n",
       "      <th>abstract_processed</th>\n",
       "    </tr>\n",
       "  </thead>\n",
       "  <tbody>\n",
       "    <tr>\n",
       "      <th>0</th>\n",
       "      <td>20170</td>\n",
       "      <td>20170</td>\n",
       "      <td>u3s62cra</td>\n",
       "      <td>WHO</td>\n",
       "      <td>Necrotizing fasciitis and candidemia after toc...</td>\n",
       "      <td>NaN</td>\n",
       "      <td>INTRODUCTION: Tocilizumab (TCZ) is an interleu...</td>\n",
       "      <td>2021-01-01</td>\n",
       "      <td>Setliff, E.; Kosmisky, D.; Ngeve, R.</td>\n",
       "      <td>Critical Care Medicine</td>\n",
       "      <td>NaN</td>\n",
       "      <td>2021</td>\n",
       "      <td>en</td>\n",
       "      <td>introduction tocilizumab (tcz) is an interleuk...</td>\n",
       "    </tr>\n",
       "    <tr>\n",
       "      <th>1</th>\n",
       "      <td>33573</td>\n",
       "      <td>33573</td>\n",
       "      <td>ign2rpta</td>\n",
       "      <td>Medline; PMC</td>\n",
       "      <td>Tisch Cancer Institute Scholars Program: Mento...</td>\n",
       "      <td>10.1007/s13187-020-01934-8</td>\n",
       "      <td>Cancer research has led to unprecedented advan...</td>\n",
       "      <td>2021-01-06</td>\n",
       "      <td>Ben-David, Kaitlyn; Lin, Jenny J.; Ferrara, Ja...</td>\n",
       "      <td>J Cancer Educ</td>\n",
       "      <td>https://doi.org/10.1007/s13187-020-01934-8; ht...</td>\n",
       "      <td>2021</td>\n",
       "      <td>en</td>\n",
       "      <td>cancer research has led to unprecedented advan...</td>\n",
       "    </tr>\n",
       "    <tr>\n",
       "      <th>2</th>\n",
       "      <td>38733</td>\n",
       "      <td>38733</td>\n",
       "      <td>nvy3lqya</td>\n",
       "      <td>Medline; PMC</td>\n",
       "      <td>Prognostic Value of a Clinical Biochemistry-Ba...</td>\n",
       "      <td>10.3389/fmed.2020.597791</td>\n",
       "      <td>Background: This study aimed to explore the pr...</td>\n",
       "      <td>2021-01-18</td>\n",
       "      <td>Yu, Jing; Nie, Lei; Wu, Dongde; Chen, Jian; Ya...</td>\n",
       "      <td>Front Med (Lausanne)</td>\n",
       "      <td>https://doi.org/10.3389/fmed.2020.597791; http...</td>\n",
       "      <td>2021</td>\n",
       "      <td>en</td>\n",
       "      <td>background this study aimed to explore the pre...</td>\n",
       "    </tr>\n",
       "    <tr>\n",
       "      <th>3</th>\n",
       "      <td>85663</td>\n",
       "      <td>85663</td>\n",
       "      <td>w6f3xigb</td>\n",
       "      <td>Medline; PMC</td>\n",
       "      <td>Guillain-Barre syndrome in 220 patients with C...</td>\n",
       "      <td>10.1186/s41983-021-00310-7</td>\n",
       "      <td>This review summarises and discusses recent fi...</td>\n",
       "      <td>2021-05-04</td>\n",
       "      <td>Finsterer, Josef; Scorza, Fulvio A.</td>\n",
       "      <td>Egypt J Neurol Psychiatr Neurosurg</td>\n",
       "      <td>https://www.ncbi.nlm.nih.gov/pubmed/33967575/;...</td>\n",
       "      <td>2021</td>\n",
       "      <td>en</td>\n",
       "      <td>this review summarises and discusses recent fi...</td>\n",
       "    </tr>\n",
       "    <tr>\n",
       "      <th>4</th>\n",
       "      <td>37078</td>\n",
       "      <td>37078</td>\n",
       "      <td>0vha3dkc</td>\n",
       "      <td>MedRxiv; WHO</td>\n",
       "      <td>The 2020 SARS-CoV-2 epidemic in England: key e...</td>\n",
       "      <td>10.1101/2021.01.11.21249564</td>\n",
       "      <td>We fitted a model of SARS-CoV-2 transmission i...</td>\n",
       "      <td>2021-01-13</td>\n",
       "      <td>Knock, E. S.; Whittles, L. K.; Lees, J. A.; Pe...</td>\n",
       "      <td>NaN</td>\n",
       "      <td>http://medrxiv.org/cgi/content/short/2021.01.1...</td>\n",
       "      <td>2021</td>\n",
       "      <td>en</td>\n",
       "      <td>we fitted a model of sars-cov-2 transmission i...</td>\n",
       "    </tr>\n",
       "  </tbody>\n",
       "</table>\n",
       "</div>"
      ],
      "text/plain": [
       "   Unnamed: 0  Unnamed: 0.1  cord_uid      source_x  \\\n",
       "0       20170         20170  u3s62cra           WHO   \n",
       "1       33573         33573  ign2rpta  Medline; PMC   \n",
       "2       38733         38733  nvy3lqya  Medline; PMC   \n",
       "3       85663         85663  w6f3xigb  Medline; PMC   \n",
       "4       37078         37078  0vha3dkc  MedRxiv; WHO   \n",
       "\n",
       "                                               title  \\\n",
       "0  Necrotizing fasciitis and candidemia after toc...   \n",
       "1  Tisch Cancer Institute Scholars Program: Mento...   \n",
       "2  Prognostic Value of a Clinical Biochemistry-Ba...   \n",
       "3  Guillain-Barre syndrome in 220 patients with C...   \n",
       "4  The 2020 SARS-CoV-2 epidemic in England: key e...   \n",
       "\n",
       "                           doi  \\\n",
       "0                          NaN   \n",
       "1   10.1007/s13187-020-01934-8   \n",
       "2     10.3389/fmed.2020.597791   \n",
       "3   10.1186/s41983-021-00310-7   \n",
       "4  10.1101/2021.01.11.21249564   \n",
       "\n",
       "                                            abstract publish_time  \\\n",
       "0  INTRODUCTION: Tocilizumab (TCZ) is an interleu...   2021-01-01   \n",
       "1  Cancer research has led to unprecedented advan...   2021-01-06   \n",
       "2  Background: This study aimed to explore the pr...   2021-01-18   \n",
       "3  This review summarises and discusses recent fi...   2021-05-04   \n",
       "4  We fitted a model of SARS-CoV-2 transmission i...   2021-01-13   \n",
       "\n",
       "                                             authors  \\\n",
       "0               Setliff, E.; Kosmisky, D.; Ngeve, R.   \n",
       "1  Ben-David, Kaitlyn; Lin, Jenny J.; Ferrara, Ja...   \n",
       "2  Yu, Jing; Nie, Lei; Wu, Dongde; Chen, Jian; Ya...   \n",
       "3                Finsterer, Josef; Scorza, Fulvio A.   \n",
       "4  Knock, E. S.; Whittles, L. K.; Lees, J. A.; Pe...   \n",
       "\n",
       "                              journal  \\\n",
       "0              Critical Care Medicine   \n",
       "1                       J Cancer Educ   \n",
       "2                Front Med (Lausanne)   \n",
       "3  Egypt J Neurol Psychiatr Neurosurg   \n",
       "4                                 NaN   \n",
       "\n",
       "                                                 url  publish_year lang  \\\n",
       "0                                                NaN          2021   en   \n",
       "1  https://doi.org/10.1007/s13187-020-01934-8; ht...          2021   en   \n",
       "2  https://doi.org/10.3389/fmed.2020.597791; http...          2021   en   \n",
       "3  https://www.ncbi.nlm.nih.gov/pubmed/33967575/;...          2021   en   \n",
       "4  http://medrxiv.org/cgi/content/short/2021.01.1...          2021   en   \n",
       "\n",
       "                                  abstract_processed  \n",
       "0  introduction tocilizumab (tcz) is an interleuk...  \n",
       "1  cancer research has led to unprecedented advan...  \n",
       "2  background this study aimed to explore the pre...  \n",
       "3  this review summarises and discusses recent fi...  \n",
       "4  we fitted a model of sars-cov-2 transmission i...  "
      ]
     },
     "execution_count": 2,
     "metadata": {},
     "output_type": "execute_result"
    }
   ],
   "source": [
    "data=pd.read_csv(\"data.csv\")\n",
    "data.head()"
   ]
  },
  {
   "cell_type": "code",
   "execution_count": 5,
   "metadata": {},
   "outputs": [],
   "source": [
    "#data = data.sample(100)\n",
    "data=data"
   ]
  },
  {
   "cell_type": "code",
   "execution_count": 6,
   "metadata": {},
   "outputs": [
    {
     "name": "stdout",
     "output_type": "stream",
     "text": [
      "['the', 'administrative', 'accountability', 'system', 'in', 'china', 'has', 'evolved', 'during', 'public', 'health', 'crises', 'by', 'holding', 'public', 'officials', 'accountable', 'the', 'system', 'hopes', 'to', 'improve', 'their', 'performance', 'during', 'emergencies', 'however', 'covid', 'exposed', 'an']\n"
     ]
    }
   ],
   "source": [
    "def sent_to_words(sentences):\n",
    "    for sentence in sentences: yield(simple_preprocess(str(sentence), deacc=True))  \n",
    "\n",
    "data = data.abstract_processed.values.tolist()\n",
    "words = list(sent_to_words(data))\n"
   ]
  },
  {
   "cell_type": "markdown",
   "metadata": {},
   "source": [
    "# Bi-grams and Tri-grams"
   ]
  },
  {
   "cell_type": "code",
   "execution_count": 7,
   "metadata": {},
   "outputs": [],
   "source": [
    "Bi = models.Phrases(words, min_count=6, threshold=100)\n",
    "Tri = models.Phrases(Bi[words], threshold=100)\n",
    "Bi_mod = models.phrases.Phraser(Bi)\n",
    "Tri_mod = models.phrases.Phraser(Tri)"
   ]
  },
  {
   "cell_type": "code",
   "execution_count": 7,
   "metadata": {},
   "outputs": [
    {
     "name": "stderr",
     "output_type": "stream",
     "text": [
      "[nltk_data] Downloading package stopwords to\n",
      "[nltk_data]     C:\\Users\\15107\\AppData\\Roaming\\nltk_data...\n",
      "[nltk_data]   Package stopwords is already up-to-date!\n"
     ]
    }
   ],
   "source": [
    "nlp = spacy.load(\"en_core_sci_lg\", disable=['ner','tagger','parser','textcat'])\n",
    "nlp.max_length = 3000000\n",
    "nltk.download('stopwords')\n",
    "stop_words = stopwords.words('english')\n",
    "stop_words.extend(['sars_cov','patient','doi', 'preprint', 'copyright',  'biorxiv', 'from', 'subject', 're', 'ie', 'st','peer', 'reviewed', 'org', 'https', 'et', 'al', 'author', 'figure', \n",
    "    'rights', 'reserved', 'permission', 'used', 'using', 'th', 'rd', 'study', 'covid','covid-19', 'sars-cov-2', 'coronavirus', 'medrxiv', 'license', 'fig', \n",
    "    'al.', 'Elsevier', 'PMC', 'CZI'])\n",
    "\n",
    "# resource https://www.kaggle.com/danielwolffram/topic-modeling-finding-related-articles\n",
    "\n"
   ]
  },
  {
   "cell_type": "code",
   "execution_count": 27,
   "metadata": {},
   "outputs": [],
   "source": [
    "def remove_stopwords(texts):\n",
    "    ans= [[word for word in simple_preprocess(str(papers)) if word not in stop_words] for papers in content]\n",
    "    return ans    \n",
    "\n",
    "def make_bigrams(texts):\n",
    "    ans=[Bi_mod[papers] for papers in content]\n",
    "    return ans\n",
    "\n",
    "def make_trigrams(texts):\n",
    "    ans= [Tri_mod[Bi_mod[papers]] for papers in content]\n",
    "    return ans\n",
    "\n",
    "def lemmatization(texts, allowed_postags=['NOUN', 'ADJ', 'VERB', 'ADV']):\n",
    "    ans = []\n",
    "    for sent in texts:\n",
    "        doc = nlp(\" \".join(sent))\n",
    "        texts_out.append([token.lemma_ for token in doc \\\n",
    "                          if token.pos_ in allowed_postags])\n",
    "    return ans"
   ]
  },
  {
   "cell_type": "code",
   "execution_count": 10,
   "metadata": {},
   "outputs": [
    {
     "name": "stdout",
     "output_type": "stream",
     "text": [
      "[['background', 'disease', 'pandemic', 'public', 'health', 'emergency', 'affect', 'many', 'world', 'nation', 'include', 'ethiopia', 'aside', 'implication', 'community', 'whole', 'also', 'associate', 'variety', 'mental', 'health', 'problem', 'healthcare', 'worker', 'hcw', 'aim', 'assess', 'prevalence', 'self', 'report', 'symptom', 'depression_anxiety', 'stress', 'pandemic', 'hcw', 'central', 'ethiopia', 'method', 'institutional', 'base', 'cross_sectional', 'conducted', 'use', 'online', 'survey', 'july', 'ethiopia', 'datum', 'collect', 'use', 'self', 'report', 'depression_anxiety', 'stress', 'scale', 'dass', 'datum', 'clean', 'code', 'analyse', 'use', 'spss', 'version', 'multivariable', 'logistic_regression', 'analysis', 'do', 'identify', 'associate', 'factor', 'mental', 'health', 'outcome', 'value', 'less', 'result', 'total', 'hcw', 'complete', 'self', 'report', 'questionnaire', 'percentage', 'hcw', 'moderate', 'extremely', 'severe', 'symptom', 'depression_anxiety', 'stress', 'respectively', 'female', 'participant', 'hcws', 'oromiya', 'special', 'zone', 'medical', 'laboratory', 'professional', 'hcw', 'work', 'treatment', 'isolation', 'center', 'significantly', 'likely', 'symptom', 'depression_anxiety', 'stress', 'conclusion', 'hcw', 'report', 'high', 'prevalence', 'depression_anxiety', 'stress', 'symptom', 'female', 'participant', 'hcw', 'oromiya', 'special', 'zone', 'medical', 'laboratory', 'professional', 'hcw', 'work', 'treatment', 'isolation', 'center', 'significantly', 'likely', 'symptom', 'depression_anxiety', 'stress', 'imperative', 'ethiopian', 'federal', 'ministry', 'health', 'develop', 'psychological', 'intervention', 'address', 'specific', 'need', 'hcw', 'impact', 'pandemic']]\n"
     ]
    }
   ],
   "source": [
    "nostops = remove_stopwords(data)\n",
    "\n",
    "bigrams = make_bigrams(nostops)\n",
    "\n",
    "lem = lemmatization(bigrams, allowed_postags=['NOUN', 'ADJ', 'VERB', 'ADV'])\n"
   ]
  },
  {
   "cell_type": "code",
   "execution_count": 13,
   "metadata": {},
   "outputs": [
    {
     "name": "stdout",
     "output_type": "stream",
     "text": [
      "[[(0, 1), (1, 1), (2, 1), (3, 1), (4, 1), (5, 1), (6, 1), (7, 1), (8, 2), (9, 1), (10, 1), (11, 2), (12, 1), (13, 1), (14, 1), (15, 1), (16, 1), (17, 1), (18, 1), (19, 1), (20, 1), (21, 1), (22, 2), (23, 6), (24, 1), (25, 1), (26, 1), (27, 1), (28, 3), (29, 1), (30, 1), (31, 1), (32, 1), (33, 2), (34, 9), (35, 1), (36, 4), (37, 1), (38, 1), (39, 1), (40, 1), (41, 1), (42, 1), (43, 1), (44, 1), (45, 1), (46, 2), (47, 1), (48, 2), (49, 1), (50, 2), (51, 1), (52, 1), (53, 2), (54, 2), (55, 1), (56, 1), (57, 1), (58, 1), (59, 1), (60, 1), (61, 1), (62, 2), (63, 1), (64, 3), (65, 2), (66, 1), (67, 2), (68, 1), (69, 2), (70, 1), (71, 1), (72, 1), (73, 4), (74, 1), (75, 1), (76, 1), (77, 3), (78, 1), (79, 2), (80, 2), (81, 1), (82, 1), (83, 6), (84, 1), (85, 5), (86, 1), (87, 2), (88, 3), (89, 1), (90, 1), (91, 1), (92, 1), (93, 2), (94, 1), (95, 1), (96, 2)]]\n"
     ]
    }
   ],
   "source": [
    "id2word = corpora.Dictionary(lem)\n",
    "texts = lem\n",
    "corpus = [id2word.doc2bow(text) for text in texts]\n",
    "print(corpus[:1])"
   ]
  },
  {
   "cell_type": "code",
   "execution_count": 14,
   "metadata": {},
   "outputs": [],
   "source": [
    "pickle.dump(id2word, open(\"id2word\", \"wb\"))\n",
    "pickle.dump(corpus, open(\"corpus\", \"wb\"))"
   ]
  },
  {
   "cell_type": "markdown",
   "metadata": {},
   "source": [
    "# Number of Topic"
   ]
  },
  {
   "cell_type": "code",
   "execution_count": 15,
   "metadata": {},
   "outputs": [],
   "source": [
    "def coherence_values(dic, corpus, content, limit, start=2, step=3):\n",
    "    model = []\n",
    "    values = []\n",
    "    for topics in range(start, limit, step):\n",
    "        model = models.LdaMulticore(corpus=corpus, num_topics=topics, id2word=dic)\n",
    "        model.append(model)\n",
    "        coherencemodel = CoherenceModel(model=model, texts=content, dictionary=dic, coherence='c_v')\n",
    "        values.append(coherencemodel.get_coherence())\n",
    "    return model, values"
   ]
  },
  {
   "cell_type": "code",
   "execution_count": 16,
   "metadata": {},
   "outputs": [],
   "source": [
    "model, values = coherence_values(dictionary=dic, corpus=corpus, texts=data_lem, start=4, limit=30, step=2)"
   ]
  },
  {
   "cell_type": "code",
   "execution_count": null,
   "metadata": {},
   "outputs": [],
   "source": [
    "fig,ax = plt.subplots(figsize=(8,5))\n",
    "ax.plot(range(1,14),values,color='black')"
   ]
  },
  {
   "cell_type": "code",
   "execution_count": null,
   "metadata": {},
   "outputs": [],
   "source": [
    "best = values.index(max(values))\n",
    "best_model = model[best]\n"
   ]
  },
  {
   "cell_type": "markdown",
   "metadata": {},
   "source": [
    "# Topic Model"
   ]
  },
  {
   "cell_type": "code",
   "execution_count": 19,
   "metadata": {},
   "outputs": [],
   "source": [
    "lda_model = models.LdaMulticore(corpus=corpus,\n",
    "                               id2word=id2word,\n",
    "                               num_topics=26,\n",
    "                               random_state=100,\n",
    "                               chunksize=100,\n",
    "                               passes=10)"
   ]
  },
  {
   "cell_type": "code",
   "execution_count": 21,
   "metadata": {},
   "outputs": [],
   "source": [
    "topics=[]\n",
    "for i in range(0,26):\n",
    "    topiclist=[]\n",
    "    for pharase, w in lda_model.show_topic(i, topn=20):\n",
    "        topiclist.append((pharase, round(w,3)))\n",
    "    topics.append(topiclist)"
   ]
  },
  {
   "cell_type": "code",
   "execution_count": 22,
   "metadata": {},
   "outputs": [
    {
     "name": "stderr",
     "output_type": "stream",
     "text": [
      "c:\\users\\15107\\appdata\\local\\programs\\python\\python37\\lib\\site-packages\\ipykernel_launcher.py:5: FutureWarning: Passing a negative integer is deprecated in version 1.0 and will not be supported in future version. Instead, use None to not limit the column width.\n",
      "  \"\"\"\n"
     ]
    },
    {
     "data": {
      "text/html": [
       "<div>\n",
       "<style scoped>\n",
       "    .dataframe tbody tr th:only-of-type {\n",
       "        vertical-align: middle;\n",
       "    }\n",
       "\n",
       "    .dataframe tbody tr th {\n",
       "        vertical-align: top;\n",
       "    }\n",
       "\n",
       "    .dataframe thead th {\n",
       "        text-align: right;\n",
       "    }\n",
       "</style>\n",
       "<table border=\"1\" class=\"dataframe\">\n",
       "  <thead>\n",
       "    <tr style=\"text-align: right;\">\n",
       "      <th></th>\n",
       "      <th>Terms per Topic</th>\n",
       "    </tr>\n",
       "  </thead>\n",
       "  <tbody>\n",
       "    <tr>\n",
       "      <th>Topic1</th>\n",
       "      <td>quality, identify, drug, result, job_loss, study, use, intervention, sars_cov, ace, significant, difference, work, receptor, antagonist, histamine, good, prevention, ability, absenteeism</td>\n",
       "    </tr>\n",
       "    <tr>\n",
       "      <th>Topic2</th>\n",
       "      <td>student, model, use, result, cancer, first, clinical, method, pandemic, article, learning, technique, base, datum, patient, responder, programme, segment, stage, cell</td>\n",
       "    </tr>\n",
       "    <tr>\n",
       "      <th>Topic3</th>\n",
       "      <td>drive, model, clinic, simulation, vaccine, provide, design, world, large, helpful, louisville, vaccination, health, pandemic, result, third, use, resident, test, help</td>\n",
       "    </tr>\n",
       "    <tr>\n",
       "      <th>Topic4</th>\n",
       "      <td>bat, time, bat_adenovirus, divergence, first, patient, year, japan, estimate, datum, ago, guanylurea, sars_cov, cave, gene, china, approximately, eastern, large, test</td>\n",
       "    </tr>\n",
       "    <tr>\n",
       "      <th>Topic5</th>\n",
       "      <td>cancer, implementation, sars_cov, ppe, implementation_science, study, opticc, optimize, ebi, method, mgkg, develop, control, death, aim, lung, center, core, pe, risk</td>\n",
       "    </tr>\n",
       "    <tr>\n",
       "      <th>Topic6</th>\n",
       "      <td>patient, discharge, mirna, physical, msc, control, adsorption, infusion, time, uterine, group, severe, life, follow, protein, high, pulmonary, ard, score, determine</td>\n",
       "    </tr>\n",
       "    <tr>\n",
       "      <th>Topic7</th>\n",
       "      <td>system, food, pandemic, response, delivery, effect, asia, receptor, nanoparticle, vaccine, paper, antigen, environment, viral, adjuvant, manner, vector, virus, review, host</td>\n",
       "    </tr>\n",
       "    <tr>\n",
       "      <th>Topic8</th>\n",
       "      <td>health, patient, test, sars_cov, age, datum, disease, resident, infection, pandemic, mutation, plasma, hospital, mental, response, cluster, airway, outbreak, staff, nh</td>\n",
       "    </tr>\n",
       "    <tr>\n",
       "      <th>Topic9</th>\n",
       "      <td>diagnostic, tamcj, patient, deposit, resident, radiology, medicine, chest, ray, cr, complement_activation, case, mcj, family, gene, condition, protein, subfamily, interpretation, mcjs</td>\n",
       "    </tr>\n",
       "    <tr>\n",
       "      <th>Topic10</th>\n",
       "      <td>sars_cov, cancer, research, newborn, method, infection, sarcopenic_obesity, include, confirm, medical, mother, program, use, clinical, bear, evidence, type, care, provide, need</td>\n",
       "    </tr>\n",
       "    <tr>\n",
       "      <th>Topic11</th>\n",
       "      <td>pharmacy, neighborhood, use, include, state, time, black, remote, hispaniclatino, city, session, accessibility, humanoid, trainee, low, compare, increase, average, care, examine</td>\n",
       "    </tr>\n",
       "    <tr>\n",
       "      <th>Topic12</th>\n",
       "      <td>student, sars_cov, specie, pandemic, medical, animal, knowledge, compare, health, host, human, region, population, significant, rbm, receptor, viral, test, identify, isolate</td>\n",
       "    </tr>\n",
       "    <tr>\n",
       "      <th>Topic13</th>\n",
       "      <td>vaccine, adpkd, patient, ab, construct, sars_cov, disease, drug, herbal, medicine, study, server, result, show, pandemic, neha, safety, ms, novel, provide</td>\n",
       "    </tr>\n",
       "    <tr>\n",
       "      <th>Topic14</th>\n",
       "      <td>infection, tcz, sc_gbs, treatment, hospital, report, day, outcome, patient, describe, sars_cov, positive, operative, post, awake, risk, craniotomy, presentation, therapy, culture</td>\n",
       "    </tr>\n",
       "    <tr>\n",
       "      <th>Topic15</th>\n",
       "      <td>stress, depression_anxiety, factor, symptom, ci, risk, report, work, survey, pediatric_nurse, anxiety, psychological, self, participant, clinician, depression, post_traumatic, logistic_regression, female, pandemic</td>\n",
       "    </tr>\n",
       "    <tr>\n",
       "      <th>Topic16</th>\n",
       "      <td>anxiety, depression, rate, sars_cov, retinal, respectively, increase, symptom, opioid, eye, insomnia, insomnia_severity, effect, psychological, new, igm, paracentesis, use, result, health</td>\n",
       "    </tr>\n",
       "    <tr>\n",
       "      <th>Topic17</th>\n",
       "      <td>teacher, work, disparity, person, racial, ethnic, support, child, group, base, hispanic, early, childhood, engagement, job, rr, minority, professional, well, resource</td>\n",
       "    </tr>\n",
       "    <tr>\n",
       "      <th>Topic18</th>\n",
       "      <td>patient, cpap, sars_cov, hie, information, care, health, respiratory, non, leader, glycan, protein, man, oligomannose, reaction, agep, increase, pneumonia, responder, high</td>\n",
       "    </tr>\n",
       "    <tr>\n",
       "      <th>Topic19</th>\n",
       "      <td>teleultrasound, focus_group, result, participant, patient, use, diagnostic, ivermectin, examination, robot_assisted, image, spike_protein, quarantine, system, levosalbutamol, interest, social_distancing, high, home, bind</td>\n",
       "    </tr>\n",
       "    <tr>\n",
       "      <th>Topic20</th>\n",
       "      <td>bat, protein, first, fear, year, vca_ppvn, learn, bat_adenovirus, sars_cov, base, detection, rna, innate, divergence, time, system, use, host, target, membrane</td>\n",
       "    </tr>\n",
       "    <tr>\n",
       "      <th>Topic21</th>\n",
       "      <td>guanylurea, patient, increase, pandemic, work, class, particle, incidence, virus, cardiopulmonary_rehabilitation, related, experience, rate, hope, depression, anxiety, enzyme, total, large, use</td>\n",
       "    </tr>\n",
       "    <tr>\n",
       "      <th>Topic22</th>\n",
       "      <td>continuous, monitoring, room_visit, number, shift, vital, sign, personal, equipment, visit, protection, early, hospital, warning, score, modify, day, decline, ward, suspect</td>\n",
       "    </tr>\n",
       "    <tr>\n",
       "      <th>Topic23</th>\n",
       "      <td>health, community_voice, pre, food, sector, high, collaboration, support, professional, review, tea, digital_technologie, strategy, also, research, teacher, learning, present, activity, gts</td>\n",
       "    </tr>\n",
       "    <tr>\n",
       "      <th>Topic24</th>\n",
       "      <td>patient, treatment, disease, risk, symptom, use, hospital, control, vitamin, neurological, strategy, survival, value, assess, impact, infectious, oud, diagnosis, information, initial</td>\n",
       "    </tr>\n",
       "    <tr>\n",
       "      <th>Topic25</th>\n",
       "      <td>patient, group, pandemic, surgery, care, sudden_death, high, non_urgent, dimer, cri, risk, admission, infection, blood, use, surgical, death, difference, critical, disease</td>\n",
       "    </tr>\n",
       "    <tr>\n",
       "      <th>Topic26</th>\n",
       "      <td>sars_cov, hcw, include, therapeutic, health, pandemic, protein, case, insight, ethiopia, significantly, viral, datum, treatment, disease, analysis, need, symptom, effective, measure</td>\n",
       "    </tr>\n",
       "  </tbody>\n",
       "</table>\n",
       "</div>"
      ],
      "text/plain": [
       "                                                                                                                                                                                                                      Terms per Topic\n",
       "Topic1   quality, identify, drug, result, job_loss, study, use, intervention, sars_cov, ace, significant, difference, work, receptor, antagonist, histamine, good, prevention, ability, absenteeism                                  \n",
       "Topic2   student, model, use, result, cancer, first, clinical, method, pandemic, article, learning, technique, base, datum, patient, responder, programme, segment, stage, cell                                                      \n",
       "Topic3   drive, model, clinic, simulation, vaccine, provide, design, world, large, helpful, louisville, vaccination, health, pandemic, result, third, use, resident, test, help                                                      \n",
       "Topic4   bat, time, bat_adenovirus, divergence, first, patient, year, japan, estimate, datum, ago, guanylurea, sars_cov, cave, gene, china, approximately, eastern, large, test                                                      \n",
       "Topic5   cancer, implementation, sars_cov, ppe, implementation_science, study, opticc, optimize, ebi, method, mgkg, develop, control, death, aim, lung, center, core, pe, risk                                                       \n",
       "Topic6   patient, discharge, mirna, physical, msc, control, adsorption, infusion, time, uterine, group, severe, life, follow, protein, high, pulmonary, ard, score, determine                                                        \n",
       "Topic7   system, food, pandemic, response, delivery, effect, asia, receptor, nanoparticle, vaccine, paper, antigen, environment, viral, adjuvant, manner, vector, virus, review, host                                                \n",
       "Topic8   health, patient, test, sars_cov, age, datum, disease, resident, infection, pandemic, mutation, plasma, hospital, mental, response, cluster, airway, outbreak, staff, nh                                                     \n",
       "Topic9   diagnostic, tamcj, patient, deposit, resident, radiology, medicine, chest, ray, cr, complement_activation, case, mcj, family, gene, condition, protein, subfamily, interpretation, mcjs                                     \n",
       "Topic10  sars_cov, cancer, research, newborn, method, infection, sarcopenic_obesity, include, confirm, medical, mother, program, use, clinical, bear, evidence, type, care, provide, need                                            \n",
       "Topic11  pharmacy, neighborhood, use, include, state, time, black, remote, hispaniclatino, city, session, accessibility, humanoid, trainee, low, compare, increase, average, care, examine                                           \n",
       "Topic12  student, sars_cov, specie, pandemic, medical, animal, knowledge, compare, health, host, human, region, population, significant, rbm, receptor, viral, test, identify, isolate                                               \n",
       "Topic13  vaccine, adpkd, patient, ab, construct, sars_cov, disease, drug, herbal, medicine, study, server, result, show, pandemic, neha, safety, ms, novel, provide                                                                  \n",
       "Topic14  infection, tcz, sc_gbs, treatment, hospital, report, day, outcome, patient, describe, sars_cov, positive, operative, post, awake, risk, craniotomy, presentation, therapy, culture                                          \n",
       "Topic15  stress, depression_anxiety, factor, symptom, ci, risk, report, work, survey, pediatric_nurse, anxiety, psychological, self, participant, clinician, depression, post_traumatic, logistic_regression, female, pandemic       \n",
       "Topic16  anxiety, depression, rate, sars_cov, retinal, respectively, increase, symptom, opioid, eye, insomnia, insomnia_severity, effect, psychological, new, igm, paracentesis, use, result, health                                 \n",
       "Topic17  teacher, work, disparity, person, racial, ethnic, support, child, group, base, hispanic, early, childhood, engagement, job, rr, minority, professional, well, resource                                                      \n",
       "Topic18  patient, cpap, sars_cov, hie, information, care, health, respiratory, non, leader, glycan, protein, man, oligomannose, reaction, agep, increase, pneumonia, responder, high                                                 \n",
       "Topic19  teleultrasound, focus_group, result, participant, patient, use, diagnostic, ivermectin, examination, robot_assisted, image, spike_protein, quarantine, system, levosalbutamol, interest, social_distancing, high, home, bind\n",
       "Topic20  bat, protein, first, fear, year, vca_ppvn, learn, bat_adenovirus, sars_cov, base, detection, rna, innate, divergence, time, system, use, host, target, membrane                                                             \n",
       "Topic21  guanylurea, patient, increase, pandemic, work, class, particle, incidence, virus, cardiopulmonary_rehabilitation, related, experience, rate, hope, depression, anxiety, enzyme, total, large, use                           \n",
       "Topic22  continuous, monitoring, room_visit, number, shift, vital, sign, personal, equipment, visit, protection, early, hospital, warning, score, modify, day, decline, ward, suspect                                                \n",
       "Topic23  health, community_voice, pre, food, sector, high, collaboration, support, professional, review, tea, digital_technologie, strategy, also, research, teacher, learning, present, activity, gts                               \n",
       "Topic24  patient, treatment, disease, risk, symptom, use, hospital, control, vitamin, neurological, strategy, survival, value, assess, impact, infectious, oud, diagnosis, information, initial                                      \n",
       "Topic25  patient, group, pandemic, surgery, care, sudden_death, high, non_urgent, dimer, cri, risk, admission, infection, blood, use, surgical, death, difference, critical, disease                                                 \n",
       "Topic26  sars_cov, hcw, include, therapeutic, health, pandemic, protein, case, insight, ethiopia, significantly, viral, datum, treatment, disease, analysis, need, symptom, effective, measure                                       "
      ]
     },
     "execution_count": 22,
     "metadata": {},
     "output_type": "execute_result"
    }
   ],
   "source": [
    "df = pd.DataFrame([', '.join([pharase for pharase, w in topic]) for topic in topics], columns = ['Terms per Topic'], index=['Topic'+str(t) for t in range(1, lda_model.num_topics+1)] )\n",
    "pd.set_option('display.max_colwidth', -1)\n",
    "df"
   ]
  },
  {
   "cell_type": "code",
   "execution_count": null,
   "metadata": {},
   "outputs": [],
   "source": [
    "wc = WordCloud(background_color=\"white\", max_font_size=150, random_state=42)\n",
    "plt.rcParams['figure.figsize'] = [100, 100]\n",
    "for i in range(26):\n",
    "    wc.generate(text=df[\"Terms per Topic\"][i])\n",
    "    plt.subplot(26, 1, i+1)\n",
    "    plt.imshow(wc, interpolation=\"bilinear\")\n",
    "    plt.axis(\"off\")\n",
    "    plt.title(df.index[i], size=30)\n",
    "plt.show()"
   ]
  }
 ],
 "metadata": {
  "kernelspec": {
   "display_name": "Python 3",
   "language": "python",
   "name": "python3"
  },
  "language_info": {
   "codemirror_mode": {
    "name": "ipython",
    "version": 3
   },
   "file_extension": ".py",
   "mimetype": "text/x-python",
   "name": "python",
   "nbconvert_exporter": "python",
   "pygments_lexer": "ipython3",
   "version": "3.7.8rc1"
  }
 },
 "nbformat": 4,
 "nbformat_minor": 5
}
